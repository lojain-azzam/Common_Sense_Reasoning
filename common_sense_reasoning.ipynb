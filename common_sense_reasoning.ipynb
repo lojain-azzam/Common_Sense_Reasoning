{
 "cells": [
  {
   "cell_type": "markdown",
   "id": "bac3d19b",
   "metadata": {},
   "source": [
    "## Common Sense Reasoning - NLP Assignment "
   ]
  },
  {
   "cell_type": "markdown",
   "id": "c9d05c56",
   "metadata": {},
   "source": [
    "**Objective:** \n",
    "\n",
    "To build a system that can outperform a baseline model with an accuracy of 0.2 using fastText, word2vec, and GloVe word embeddings. Additionally, compare the performance of these pretrained embedding models in terms of accuracy.\n"
   ]
  },
  {
   "cell_type": "code",
   "execution_count": 150,
   "id": "5e55ce03",
   "metadata": {},
   "outputs": [],
   "source": [
    "import numpy as np\n",
    "import pandas as pd\n",
    "from sklearn.model_selection import train_test_split\n",
    "from sklearn.metrics import accuracy_score\n",
    "import json\n",
    "import string\n",
    "from nltk.tokenize import word_tokenize\n",
    "from nltk.corpus import stopwords\n",
    "from nltk.stem import WordNetLemmatizer\n",
    "from sklearn.ensemble import RandomForestClassifier\n",
    "import gensim.downloader"
   ]
  },
  {
   "cell_type": "markdown",
   "id": "872134ae",
   "metadata": {},
   "source": [
    "### 1- Load from the JSON file"
   ]
  },
  {
   "cell_type": "code",
   "execution_count": 151,
   "id": "7b966eec",
   "metadata": {},
   "outputs": [
    {
     "data": {
      "text/plain": [
       "[{'answerKey': 'A',\n",
       "  'id': '075e483d21c29a511267ef62bedc0461',\n",
       "  'question': {'question_concept': 'punishing',\n",
       "   'choices': [{'label': 'A', 'text': 'ignore'},\n",
       "    {'label': 'B', 'text': 'enforce'},\n",
       "    {'label': 'C', 'text': 'authoritarian'},\n",
       "    {'label': 'D', 'text': 'yell at'},\n",
       "    {'label': 'E', 'text': 'avoid'}],\n",
       "   'stem': 'The sanctions against the school were a punishing blow, and they seemed to what the efforts the school had made to change?'}},\n",
       " {'answerKey': 'B',\n",
       "  'id': '61fe6e879ff18686d7552425a36344c8',\n",
       "  'question': {'question_concept': 'people',\n",
       "   'choices': [{'label': 'A', 'text': 'race track'},\n",
       "    {'label': 'B', 'text': 'populated areas'},\n",
       "    {'label': 'C', 'text': 'the desert'},\n",
       "    {'label': 'D', 'text': 'apartment'},\n",
       "    {'label': 'E', 'text': 'roadblock'}],\n",
       "   'stem': 'Sammy wanted to go to where the people were.  Where might he go?'}}]"
      ]
     },
     "execution_count": 151,
     "metadata": {},
     "output_type": "execute_result"
    }
   ],
   "source": [
    "data = []\n",
    "with open('train_rand_split.jsonl', 'r') as f:\n",
    "    for line in f:\n",
    "        data.append(json.loads(line))\n",
    "\n",
    "        \n",
    "data[:2] "
   ]
  },
  {
   "cell_type": "code",
   "execution_count": 152,
   "id": "dfbcc853",
   "metadata": {},
   "outputs": [
    {
     "data": {
      "text/html": [
       "<div>\n",
       "<style scoped>\n",
       "    .dataframe tbody tr th:only-of-type {\n",
       "        vertical-align: middle;\n",
       "    }\n",
       "\n",
       "    .dataframe tbody tr th {\n",
       "        vertical-align: top;\n",
       "    }\n",
       "\n",
       "    .dataframe thead th {\n",
       "        text-align: right;\n",
       "    }\n",
       "</style>\n",
       "<table border=\"1\" class=\"dataframe\">\n",
       "  <thead>\n",
       "    <tr style=\"text-align: right;\">\n",
       "      <th></th>\n",
       "      <th>question</th>\n",
       "      <th>answerKey</th>\n",
       "      <th>all_answers</th>\n",
       "    </tr>\n",
       "  </thead>\n",
       "  <tbody>\n",
       "    <tr>\n",
       "      <th>0</th>\n",
       "      <td>The sanctions against the school were a punish...</td>\n",
       "      <td>A</td>\n",
       "      <td>ignore, enforce, authoritarian, yell at, avoid</td>\n",
       "    </tr>\n",
       "    <tr>\n",
       "      <th>1</th>\n",
       "      <td>Sammy wanted to go to where the people were.  ...</td>\n",
       "      <td>B</td>\n",
       "      <td>race track, populated areas, the desert, apart...</td>\n",
       "    </tr>\n",
       "    <tr>\n",
       "      <th>2</th>\n",
       "      <td>To locate a choker not located in a jewelry bo...</td>\n",
       "      <td>A</td>\n",
       "      <td>jewelry store, neck, jewlery box, jewelry box,...</td>\n",
       "    </tr>\n",
       "    <tr>\n",
       "      <th>3</th>\n",
       "      <td>Google Maps and other highway and street GPS s...</td>\n",
       "      <td>D</td>\n",
       "      <td>united states, mexico, countryside, atlas, oceans</td>\n",
       "    </tr>\n",
       "    <tr>\n",
       "      <th>4</th>\n",
       "      <td>The fox walked from the city into the forest, ...</td>\n",
       "      <td>C</td>\n",
       "      <td>pretty flowers., hen house, natural habitat, s...</td>\n",
       "    </tr>\n",
       "  </tbody>\n",
       "</table>\n",
       "</div>"
      ],
      "text/plain": [
       "                                            question answerKey  \\\n",
       "0  The sanctions against the school were a punish...         A   \n",
       "1  Sammy wanted to go to where the people were.  ...         B   \n",
       "2  To locate a choker not located in a jewelry bo...         A   \n",
       "3  Google Maps and other highway and street GPS s...         D   \n",
       "4  The fox walked from the city into the forest, ...         C   \n",
       "\n",
       "                                         all_answers  \n",
       "0     ignore, enforce, authoritarian, yell at, avoid  \n",
       "1  race track, populated areas, the desert, apart...  \n",
       "2  jewelry store, neck, jewlery box, jewelry box,...  \n",
       "3  united states, mexico, countryside, atlas, oceans  \n",
       "4  pretty flowers., hen house, natural habitat, s...  "
      ]
     },
     "execution_count": 152,
     "metadata": {},
     "output_type": "execute_result"
    }
   ],
   "source": [
    "       \n",
    "questions = []\n",
    "answer_keys = []\n",
    "all_answers = []\n",
    "\n",
    "for entry in data:\n",
    "    question = entry['question']['stem']\n",
    "    answer_key = entry['answerKey']\n",
    "    choices = entry['question']['choices']\n",
    "    all_choices = [choice['text'] for choice in choices]\n",
    "    \n",
    "    # Concatenate all the answers into a single string\n",
    "    all_answers.append(\", \".join(all_choices))\n",
    "    \n",
    "    # Append the question and answer key to their respective lists\n",
    "    questions.append(question)\n",
    "    answer_keys.append(answer_key)\n",
    "\n",
    "df = pd.DataFrame({'question': questions, 'answerKey': answer_keys, 'all_answers': all_answers})\n",
    "\n",
    "\n",
    "df.head()\n"
   ]
  },
  {
   "cell_type": "markdown",
   "id": "2b6d9d74",
   "metadata": {},
   "source": [
    "### 2- Pre-process the text data"
   ]
  },
  {
   "cell_type": "code",
   "execution_count": 153,
   "id": "7ad0acad",
   "metadata": {},
   "outputs": [],
   "source": [
    "def preprocess_text(text):\n",
    "    # Tokenization\n",
    "    tokens = word_tokenize(text)\n",
    "    # Convert to lowercase\n",
    "    tokens = [word.lower() for word in tokens]\n",
    "    # Remove punctuation\n",
    "    tokens = [word for word in tokens if word not in string.punctuation]\n",
    "    # Remove stopwords\n",
    "    stop_words = set(stopwords.words('english'))\n",
    "    tokens = [word for word in tokens if word not in stop_words]\n",
    "    # Lemmatization\n",
    "    lemmatizer = WordNetLemmatizer()\n",
    "    tokens = [lemmatizer.lemmatize(word) for word in tokens]\n",
    "    # Join tokens back into a string\n",
    "    preprocessed_text = ' '.join(tokens)\n",
    "    return preprocessed_text\n"
   ]
  },
  {
   "cell_type": "code",
   "execution_count": 154,
   "id": "5c5efb79",
   "metadata": {},
   "outputs": [
    {
     "data": {
      "text/html": [
       "<div>\n",
       "<style scoped>\n",
       "    .dataframe tbody tr th:only-of-type {\n",
       "        vertical-align: middle;\n",
       "    }\n",
       "\n",
       "    .dataframe tbody tr th {\n",
       "        vertical-align: top;\n",
       "    }\n",
       "\n",
       "    .dataframe thead th {\n",
       "        text-align: right;\n",
       "    }\n",
       "</style>\n",
       "<table border=\"1\" class=\"dataframe\">\n",
       "  <thead>\n",
       "    <tr style=\"text-align: right;\">\n",
       "      <th></th>\n",
       "      <th>question</th>\n",
       "      <th>answerKey</th>\n",
       "      <th>all_answers</th>\n",
       "    </tr>\n",
       "  </thead>\n",
       "  <tbody>\n",
       "    <tr>\n",
       "      <th>0</th>\n",
       "      <td>sanction school punishing blow seemed effort s...</td>\n",
       "      <td>A</td>\n",
       "      <td>ignore, enforce, authoritarian, yell at, avoid</td>\n",
       "    </tr>\n",
       "    <tr>\n",
       "      <th>1</th>\n",
       "      <td>sammy wanted go people might go</td>\n",
       "      <td>B</td>\n",
       "      <td>race track, populated areas, the desert, apart...</td>\n",
       "    </tr>\n",
       "    <tr>\n",
       "      <th>2</th>\n",
       "      <td>locate choker located jewelry box boutique wou...</td>\n",
       "      <td>A</td>\n",
       "      <td>jewelry store, neck, jewlery box, jewelry box,...</td>\n",
       "    </tr>\n",
       "    <tr>\n",
       "      <th>3</th>\n",
       "      <td>google map highway street gps service replaced</td>\n",
       "      <td>D</td>\n",
       "      <td>united states, mexico, countryside, atlas, oceans</td>\n",
       "    </tr>\n",
       "    <tr>\n",
       "      <th>4</th>\n",
       "      <td>fox walked city forest looking</td>\n",
       "      <td>C</td>\n",
       "      <td>pretty flowers., hen house, natural habitat, s...</td>\n",
       "    </tr>\n",
       "  </tbody>\n",
       "</table>\n",
       "</div>"
      ],
      "text/plain": [
       "                                            question answerKey  \\\n",
       "0  sanction school punishing blow seemed effort s...         A   \n",
       "1                    sammy wanted go people might go         B   \n",
       "2  locate choker located jewelry box boutique wou...         A   \n",
       "3     google map highway street gps service replaced         D   \n",
       "4                     fox walked city forest looking         C   \n",
       "\n",
       "                                         all_answers  \n",
       "0     ignore, enforce, authoritarian, yell at, avoid  \n",
       "1  race track, populated areas, the desert, apart...  \n",
       "2  jewelry store, neck, jewlery box, jewelry box,...  \n",
       "3  united states, mexico, countryside, atlas, oceans  \n",
       "4  pretty flowers., hen house, natural habitat, s...  "
      ]
     },
     "execution_count": 154,
     "metadata": {},
     "output_type": "execute_result"
    }
   ],
   "source": [
    "# Apply text preprocessing to the 'question' column\n",
    "df['question'] = df['question'].apply(preprocess_text)\n",
    "df.head()"
   ]
  },
  {
   "cell_type": "markdown",
   "id": "3d4240cd",
   "metadata": {},
   "source": [
    "### 3- Random baseline model"
   ]
  },
  {
   "cell_type": "code",
   "execution_count": 155,
   "id": "10e4019e",
   "metadata": {},
   "outputs": [
    {
     "name": "stdout",
     "output_type": "stream",
     "text": [
      "Accuracy for random baseline model: 0.20429114053998562\n"
     ]
    }
   ],
   "source": [
    "\n",
    "def calculate_accuracy_random(data):\n",
    "    correct_predictions = 0\n",
    "    total_questions = len(data)\n",
    "\n",
    "    for question in data:\n",
    "        answer_key = question[\"answerKey\"]\n",
    "        prediction_label = random.choice(question[\"question\"][\"choices\"])[\"label\"]\n",
    "\n",
    "        if prediction_label == answer_key:\n",
    "            correct_predictions += 1\n",
    "\n",
    "    accuracy = correct_predictions / total_questions\n",
    "    return accuracy\n",
    "\n",
    "# Calculate accuracy for random baseline model\n",
    "accuracy_random_baseline = calculate_accuracy_random(data)\n",
    "\n",
    "print(f\"Accuracy for random baseline model: {accuracy_random_baseline}\")"
   ]
  },
  {
   "cell_type": "code",
   "execution_count": 156,
   "id": "466bbd2f",
   "metadata": {},
   "outputs": [],
   "source": [
    "# Split data into train and test sets\n",
    "X_train, X_test, y_train, y_test = train_test_split(questions, labels, test_size=0.2, random_state=42)\n"
   ]
  },
  {
   "cell_type": "markdown",
   "id": "7f40a588",
   "metadata": {},
   "source": [
    "### 3- Load pre-trained word embeddings\n"
   ]
  },
  {
   "cell_type": "code",
   "execution_count": 22,
   "id": "6eb72bf8",
   "metadata": {},
   "outputs": [],
   "source": [
    "word2vec_model = gensim.downloader.load('word2vec-google-news-300')\n",
    "glove_model = gensim.downloader.load('glove-wiki-gigaword-300')\n",
    "fasttext_model = gensim.downloader.load('fasttext-wiki-news-subwords-300')"
   ]
  },
  {
   "cell_type": "markdown",
   "id": "4dd30b65",
   "metadata": {},
   "source": [
    "### 4- Convert the text data into vector representations"
   ]
  },
  {
   "cell_type": "code",
   "execution_count": 157,
   "id": "f123ddec",
   "metadata": {},
   "outputs": [],
   "source": [
    "def get_word_embeddings(text, model):\n",
    "    embeddings = []\n",
    "    for word in text:\n",
    "        if word in model:\n",
    "            embeddings.append(model[word])\n",
    "        else:\n",
    "            embeddings.append(np.zeros(model.vector_size))  # Use zero vector for out-of-vocabulary words\n",
    "    return np.mean(embeddings, axis=0)\n"
   ]
  },
  {
   "cell_type": "code",
   "execution_count": 158,
   "id": "62f5a760",
   "metadata": {},
   "outputs": [],
   "source": [
    "X_train_word2vec = np.array([get_word_embeddings(text, word2vec_model) for text in X_train])\n",
    "X_test_word2vec = np.array([get_word_embeddings(text, word2vec_model) for text in X_test])\n"
   ]
  },
  {
   "cell_type": "code",
   "execution_count": 159,
   "id": "c44f7f7b",
   "metadata": {},
   "outputs": [],
   "source": [
    "X_train_glove = np.array([get_word_embeddings(text, glove_model) for text in X_train])\n",
    "X_test_glove = np.array([get_word_embeddings(text, glove_model) for text in X_test])\n"
   ]
  },
  {
   "cell_type": "code",
   "execution_count": 160,
   "id": "e4add127",
   "metadata": {},
   "outputs": [],
   "source": [
    "X_train_fasttext = np.array([get_word_embeddings(text, fasttext_model) for text in X_train])\n",
    "X_test_fasttext = np.array([get_word_embeddings(text, fasttext_model) for text in X_test])\n"
   ]
  },
  {
   "cell_type": "markdown",
   "id": "34b18976",
   "metadata": {},
   "source": [
    "### 5- Train a classifier model - Using RF\n"
   ]
  },
  {
   "cell_type": "code",
   "execution_count": 161,
   "id": "d06517ee",
   "metadata": {},
   "outputs": [
    {
     "data": {
      "text/html": [
       "<style>#sk-container-id-10 {color: black;background-color: white;}#sk-container-id-10 pre{padding: 0;}#sk-container-id-10 div.sk-toggleable {background-color: white;}#sk-container-id-10 label.sk-toggleable__label {cursor: pointer;display: block;width: 100%;margin-bottom: 0;padding: 0.3em;box-sizing: border-box;text-align: center;}#sk-container-id-10 label.sk-toggleable__label-arrow:before {content: \"▸\";float: left;margin-right: 0.25em;color: #696969;}#sk-container-id-10 label.sk-toggleable__label-arrow:hover:before {color: black;}#sk-container-id-10 div.sk-estimator:hover label.sk-toggleable__label-arrow:before {color: black;}#sk-container-id-10 div.sk-toggleable__content {max-height: 0;max-width: 0;overflow: hidden;text-align: left;background-color: #f0f8ff;}#sk-container-id-10 div.sk-toggleable__content pre {margin: 0.2em;color: black;border-radius: 0.25em;background-color: #f0f8ff;}#sk-container-id-10 input.sk-toggleable__control:checked~div.sk-toggleable__content {max-height: 200px;max-width: 100%;overflow: auto;}#sk-container-id-10 input.sk-toggleable__control:checked~label.sk-toggleable__label-arrow:before {content: \"▾\";}#sk-container-id-10 div.sk-estimator input.sk-toggleable__control:checked~label.sk-toggleable__label {background-color: #d4ebff;}#sk-container-id-10 div.sk-label input.sk-toggleable__control:checked~label.sk-toggleable__label {background-color: #d4ebff;}#sk-container-id-10 input.sk-hidden--visually {border: 0;clip: rect(1px 1px 1px 1px);clip: rect(1px, 1px, 1px, 1px);height: 1px;margin: -1px;overflow: hidden;padding: 0;position: absolute;width: 1px;}#sk-container-id-10 div.sk-estimator {font-family: monospace;background-color: #f0f8ff;border: 1px dotted black;border-radius: 0.25em;box-sizing: border-box;margin-bottom: 0.5em;}#sk-container-id-10 div.sk-estimator:hover {background-color: #d4ebff;}#sk-container-id-10 div.sk-parallel-item::after {content: \"\";width: 100%;border-bottom: 1px solid gray;flex-grow: 1;}#sk-container-id-10 div.sk-label:hover label.sk-toggleable__label {background-color: #d4ebff;}#sk-container-id-10 div.sk-serial::before {content: \"\";position: absolute;border-left: 1px solid gray;box-sizing: border-box;top: 0;bottom: 0;left: 50%;z-index: 0;}#sk-container-id-10 div.sk-serial {display: flex;flex-direction: column;align-items: center;background-color: white;padding-right: 0.2em;padding-left: 0.2em;position: relative;}#sk-container-id-10 div.sk-item {position: relative;z-index: 1;}#sk-container-id-10 div.sk-parallel {display: flex;align-items: stretch;justify-content: center;background-color: white;position: relative;}#sk-container-id-10 div.sk-item::before, #sk-container-id-10 div.sk-parallel-item::before {content: \"\";position: absolute;border-left: 1px solid gray;box-sizing: border-box;top: 0;bottom: 0;left: 50%;z-index: -1;}#sk-container-id-10 div.sk-parallel-item {display: flex;flex-direction: column;z-index: 1;position: relative;background-color: white;}#sk-container-id-10 div.sk-parallel-item:first-child::after {align-self: flex-end;width: 50%;}#sk-container-id-10 div.sk-parallel-item:last-child::after {align-self: flex-start;width: 50%;}#sk-container-id-10 div.sk-parallel-item:only-child::after {width: 0;}#sk-container-id-10 div.sk-dashed-wrapped {border: 1px dashed gray;margin: 0 0.4em 0.5em 0.4em;box-sizing: border-box;padding-bottom: 0.4em;background-color: white;}#sk-container-id-10 div.sk-label label {font-family: monospace;font-weight: bold;display: inline-block;line-height: 1.2em;}#sk-container-id-10 div.sk-label-container {text-align: center;}#sk-container-id-10 div.sk-container {/* jupyter's `normalize.less` sets `[hidden] { display: none; }` but bootstrap.min.css set `[hidden] { display: none !important; }` so we also need the `!important` here to be able to override the default hidden behavior on the sphinx rendered scikit-learn.org. See: https://github.com/scikit-learn/scikit-learn/issues/21755 */display: inline-block !important;position: relative;}#sk-container-id-10 div.sk-text-repr-fallback {display: none;}</style><div id=\"sk-container-id-10\" class=\"sk-top-container\"><div class=\"sk-text-repr-fallback\"><pre>RandomForestClassifier(random_state=42)</pre><b>In a Jupyter environment, please rerun this cell to show the HTML representation or trust the notebook. <br />On GitHub, the HTML representation is unable to render, please try loading this page with nbviewer.org.</b></div><div class=\"sk-container\" hidden><div class=\"sk-item\"><div class=\"sk-estimator sk-toggleable\"><input class=\"sk-toggleable__control sk-hidden--visually\" id=\"sk-estimator-id-10\" type=\"checkbox\" checked><label for=\"sk-estimator-id-10\" class=\"sk-toggleable__label sk-toggleable__label-arrow\">RandomForestClassifier</label><div class=\"sk-toggleable__content\"><pre>RandomForestClassifier(random_state=42)</pre></div></div></div></div></div>"
      ],
      "text/plain": [
       "RandomForestClassifier(random_state=42)"
      ]
     },
     "execution_count": 161,
     "metadata": {},
     "output_type": "execute_result"
    }
   ],
   "source": [
    "classifier_word2vec = RandomForestClassifier(random_state=42)\n",
    "classifier_word2vec.fit(X_train_word2vec, y_train)\n"
   ]
  },
  {
   "cell_type": "code",
   "execution_count": 162,
   "id": "bf5e58e4",
   "metadata": {},
   "outputs": [
    {
     "data": {
      "text/html": [
       "<style>#sk-container-id-11 {color: black;background-color: white;}#sk-container-id-11 pre{padding: 0;}#sk-container-id-11 div.sk-toggleable {background-color: white;}#sk-container-id-11 label.sk-toggleable__label {cursor: pointer;display: block;width: 100%;margin-bottom: 0;padding: 0.3em;box-sizing: border-box;text-align: center;}#sk-container-id-11 label.sk-toggleable__label-arrow:before {content: \"▸\";float: left;margin-right: 0.25em;color: #696969;}#sk-container-id-11 label.sk-toggleable__label-arrow:hover:before {color: black;}#sk-container-id-11 div.sk-estimator:hover label.sk-toggleable__label-arrow:before {color: black;}#sk-container-id-11 div.sk-toggleable__content {max-height: 0;max-width: 0;overflow: hidden;text-align: left;background-color: #f0f8ff;}#sk-container-id-11 div.sk-toggleable__content pre {margin: 0.2em;color: black;border-radius: 0.25em;background-color: #f0f8ff;}#sk-container-id-11 input.sk-toggleable__control:checked~div.sk-toggleable__content {max-height: 200px;max-width: 100%;overflow: auto;}#sk-container-id-11 input.sk-toggleable__control:checked~label.sk-toggleable__label-arrow:before {content: \"▾\";}#sk-container-id-11 div.sk-estimator input.sk-toggleable__control:checked~label.sk-toggleable__label {background-color: #d4ebff;}#sk-container-id-11 div.sk-label input.sk-toggleable__control:checked~label.sk-toggleable__label {background-color: #d4ebff;}#sk-container-id-11 input.sk-hidden--visually {border: 0;clip: rect(1px 1px 1px 1px);clip: rect(1px, 1px, 1px, 1px);height: 1px;margin: -1px;overflow: hidden;padding: 0;position: absolute;width: 1px;}#sk-container-id-11 div.sk-estimator {font-family: monospace;background-color: #f0f8ff;border: 1px dotted black;border-radius: 0.25em;box-sizing: border-box;margin-bottom: 0.5em;}#sk-container-id-11 div.sk-estimator:hover {background-color: #d4ebff;}#sk-container-id-11 div.sk-parallel-item::after {content: \"\";width: 100%;border-bottom: 1px solid gray;flex-grow: 1;}#sk-container-id-11 div.sk-label:hover label.sk-toggleable__label {background-color: #d4ebff;}#sk-container-id-11 div.sk-serial::before {content: \"\";position: absolute;border-left: 1px solid gray;box-sizing: border-box;top: 0;bottom: 0;left: 50%;z-index: 0;}#sk-container-id-11 div.sk-serial {display: flex;flex-direction: column;align-items: center;background-color: white;padding-right: 0.2em;padding-left: 0.2em;position: relative;}#sk-container-id-11 div.sk-item {position: relative;z-index: 1;}#sk-container-id-11 div.sk-parallel {display: flex;align-items: stretch;justify-content: center;background-color: white;position: relative;}#sk-container-id-11 div.sk-item::before, #sk-container-id-11 div.sk-parallel-item::before {content: \"\";position: absolute;border-left: 1px solid gray;box-sizing: border-box;top: 0;bottom: 0;left: 50%;z-index: -1;}#sk-container-id-11 div.sk-parallel-item {display: flex;flex-direction: column;z-index: 1;position: relative;background-color: white;}#sk-container-id-11 div.sk-parallel-item:first-child::after {align-self: flex-end;width: 50%;}#sk-container-id-11 div.sk-parallel-item:last-child::after {align-self: flex-start;width: 50%;}#sk-container-id-11 div.sk-parallel-item:only-child::after {width: 0;}#sk-container-id-11 div.sk-dashed-wrapped {border: 1px dashed gray;margin: 0 0.4em 0.5em 0.4em;box-sizing: border-box;padding-bottom: 0.4em;background-color: white;}#sk-container-id-11 div.sk-label label {font-family: monospace;font-weight: bold;display: inline-block;line-height: 1.2em;}#sk-container-id-11 div.sk-label-container {text-align: center;}#sk-container-id-11 div.sk-container {/* jupyter's `normalize.less` sets `[hidden] { display: none; }` but bootstrap.min.css set `[hidden] { display: none !important; }` so we also need the `!important` here to be able to override the default hidden behavior on the sphinx rendered scikit-learn.org. See: https://github.com/scikit-learn/scikit-learn/issues/21755 */display: inline-block !important;position: relative;}#sk-container-id-11 div.sk-text-repr-fallback {display: none;}</style><div id=\"sk-container-id-11\" class=\"sk-top-container\"><div class=\"sk-text-repr-fallback\"><pre>RandomForestClassifier(random_state=42)</pre><b>In a Jupyter environment, please rerun this cell to show the HTML representation or trust the notebook. <br />On GitHub, the HTML representation is unable to render, please try loading this page with nbviewer.org.</b></div><div class=\"sk-container\" hidden><div class=\"sk-item\"><div class=\"sk-estimator sk-toggleable\"><input class=\"sk-toggleable__control sk-hidden--visually\" id=\"sk-estimator-id-11\" type=\"checkbox\" checked><label for=\"sk-estimator-id-11\" class=\"sk-toggleable__label sk-toggleable__label-arrow\">RandomForestClassifier</label><div class=\"sk-toggleable__content\"><pre>RandomForestClassifier(random_state=42)</pre></div></div></div></div></div>"
      ],
      "text/plain": [
       "RandomForestClassifier(random_state=42)"
      ]
     },
     "execution_count": 162,
     "metadata": {},
     "output_type": "execute_result"
    }
   ],
   "source": [
    "classifier_glove = RandomForestClassifier(random_state=42)\n",
    "classifier_glove.fit(X_train_glove, y_train)\n"
   ]
  },
  {
   "cell_type": "code",
   "execution_count": 163,
   "id": "035f7c68",
   "metadata": {},
   "outputs": [
    {
     "data": {
      "text/html": [
       "<style>#sk-container-id-12 {color: black;background-color: white;}#sk-container-id-12 pre{padding: 0;}#sk-container-id-12 div.sk-toggleable {background-color: white;}#sk-container-id-12 label.sk-toggleable__label {cursor: pointer;display: block;width: 100%;margin-bottom: 0;padding: 0.3em;box-sizing: border-box;text-align: center;}#sk-container-id-12 label.sk-toggleable__label-arrow:before {content: \"▸\";float: left;margin-right: 0.25em;color: #696969;}#sk-container-id-12 label.sk-toggleable__label-arrow:hover:before {color: black;}#sk-container-id-12 div.sk-estimator:hover label.sk-toggleable__label-arrow:before {color: black;}#sk-container-id-12 div.sk-toggleable__content {max-height: 0;max-width: 0;overflow: hidden;text-align: left;background-color: #f0f8ff;}#sk-container-id-12 div.sk-toggleable__content pre {margin: 0.2em;color: black;border-radius: 0.25em;background-color: #f0f8ff;}#sk-container-id-12 input.sk-toggleable__control:checked~div.sk-toggleable__content {max-height: 200px;max-width: 100%;overflow: auto;}#sk-container-id-12 input.sk-toggleable__control:checked~label.sk-toggleable__label-arrow:before {content: \"▾\";}#sk-container-id-12 div.sk-estimator input.sk-toggleable__control:checked~label.sk-toggleable__label {background-color: #d4ebff;}#sk-container-id-12 div.sk-label input.sk-toggleable__control:checked~label.sk-toggleable__label {background-color: #d4ebff;}#sk-container-id-12 input.sk-hidden--visually {border: 0;clip: rect(1px 1px 1px 1px);clip: rect(1px, 1px, 1px, 1px);height: 1px;margin: -1px;overflow: hidden;padding: 0;position: absolute;width: 1px;}#sk-container-id-12 div.sk-estimator {font-family: monospace;background-color: #f0f8ff;border: 1px dotted black;border-radius: 0.25em;box-sizing: border-box;margin-bottom: 0.5em;}#sk-container-id-12 div.sk-estimator:hover {background-color: #d4ebff;}#sk-container-id-12 div.sk-parallel-item::after {content: \"\";width: 100%;border-bottom: 1px solid gray;flex-grow: 1;}#sk-container-id-12 div.sk-label:hover label.sk-toggleable__label {background-color: #d4ebff;}#sk-container-id-12 div.sk-serial::before {content: \"\";position: absolute;border-left: 1px solid gray;box-sizing: border-box;top: 0;bottom: 0;left: 50%;z-index: 0;}#sk-container-id-12 div.sk-serial {display: flex;flex-direction: column;align-items: center;background-color: white;padding-right: 0.2em;padding-left: 0.2em;position: relative;}#sk-container-id-12 div.sk-item {position: relative;z-index: 1;}#sk-container-id-12 div.sk-parallel {display: flex;align-items: stretch;justify-content: center;background-color: white;position: relative;}#sk-container-id-12 div.sk-item::before, #sk-container-id-12 div.sk-parallel-item::before {content: \"\";position: absolute;border-left: 1px solid gray;box-sizing: border-box;top: 0;bottom: 0;left: 50%;z-index: -1;}#sk-container-id-12 div.sk-parallel-item {display: flex;flex-direction: column;z-index: 1;position: relative;background-color: white;}#sk-container-id-12 div.sk-parallel-item:first-child::after {align-self: flex-end;width: 50%;}#sk-container-id-12 div.sk-parallel-item:last-child::after {align-self: flex-start;width: 50%;}#sk-container-id-12 div.sk-parallel-item:only-child::after {width: 0;}#sk-container-id-12 div.sk-dashed-wrapped {border: 1px dashed gray;margin: 0 0.4em 0.5em 0.4em;box-sizing: border-box;padding-bottom: 0.4em;background-color: white;}#sk-container-id-12 div.sk-label label {font-family: monospace;font-weight: bold;display: inline-block;line-height: 1.2em;}#sk-container-id-12 div.sk-label-container {text-align: center;}#sk-container-id-12 div.sk-container {/* jupyter's `normalize.less` sets `[hidden] { display: none; }` but bootstrap.min.css set `[hidden] { display: none !important; }` so we also need the `!important` here to be able to override the default hidden behavior on the sphinx rendered scikit-learn.org. See: https://github.com/scikit-learn/scikit-learn/issues/21755 */display: inline-block !important;position: relative;}#sk-container-id-12 div.sk-text-repr-fallback {display: none;}</style><div id=\"sk-container-id-12\" class=\"sk-top-container\"><div class=\"sk-text-repr-fallback\"><pre>RandomForestClassifier(random_state=42)</pre><b>In a Jupyter environment, please rerun this cell to show the HTML representation or trust the notebook. <br />On GitHub, the HTML representation is unable to render, please try loading this page with nbviewer.org.</b></div><div class=\"sk-container\" hidden><div class=\"sk-item\"><div class=\"sk-estimator sk-toggleable\"><input class=\"sk-toggleable__control sk-hidden--visually\" id=\"sk-estimator-id-12\" type=\"checkbox\" checked><label for=\"sk-estimator-id-12\" class=\"sk-toggleable__label sk-toggleable__label-arrow\">RandomForestClassifier</label><div class=\"sk-toggleable__content\"><pre>RandomForestClassifier(random_state=42)</pre></div></div></div></div></div>"
      ],
      "text/plain": [
       "RandomForestClassifier(random_state=42)"
      ]
     },
     "execution_count": 163,
     "metadata": {},
     "output_type": "execute_result"
    }
   ],
   "source": [
    "classifier_fasttext = RandomForestClassifier(random_state=42)\n",
    "classifier_fasttext.fit(X_train_fasttext, y_train)\n"
   ]
  },
  {
   "cell_type": "markdown",
   "id": "d748a42c",
   "metadata": {},
   "source": [
    "### 6- Evaluate the performance of the models"
   ]
  },
  {
   "cell_type": "code",
   "execution_count": 164,
   "id": "d08dd8ec",
   "metadata": {},
   "outputs": [
    {
     "name": "stdout",
     "output_type": "stream",
     "text": [
      "Accuracy using Word2Vec: 0.20369420215495126\n"
     ]
    }
   ],
   "source": [
    "y_pred_word2vec = classifier_word2vec.predict(X_test_word2vec)\n",
    "accuracy_word2vec = accuracy_score(y_test, y_pred_word2vec)\n",
    "print(\"Accuracy using Word2Vec:\", accuracy_word2vec)"
   ]
  },
  {
   "cell_type": "code",
   "execution_count": 165,
   "id": "9819d6f5",
   "metadata": {},
   "outputs": [
    {
     "name": "stdout",
     "output_type": "stream",
     "text": [
      "Accuracy using GloVe: 0.2047203694202155\n"
     ]
    }
   ],
   "source": [
    "y_pred_glove = classifier_glove.predict(X_test_glove)\n",
    "accuracy_glove = accuracy_score(y_test, y_pred_glove)\n",
    "print(\"Accuracy using GloVe:\", accuracy_glove)"
   ]
  },
  {
   "cell_type": "code",
   "execution_count": 166,
   "id": "1589a23a",
   "metadata": {},
   "outputs": [
    {
     "name": "stdout",
     "output_type": "stream",
     "text": [
      "Accuracy using fastText: 0.20266803488968702\n"
     ]
    }
   ],
   "source": [
    "y_pred_fasttext = classifier_fasttext.predict(X_test_fasttext)\n",
    "accuracy_fasttext = accuracy_score(y_test, y_pred_fasttext)\n",
    "print(\"Accuracy using fastText:\", accuracy_fasttext)"
   ]
  },
  {
   "cell_type": "code",
   "execution_count": null,
   "id": "f7fcb453",
   "metadata": {},
   "outputs": [],
   "source": []
  },
  {
   "cell_type": "code",
   "execution_count": null,
   "id": "2aabef4d",
   "metadata": {},
   "outputs": [],
   "source": []
  }
 ],
 "metadata": {
  "kernelspec": {
   "display_name": "Python 3 (ipykernel)",
   "language": "python",
   "name": "python3"
  },
  "language_info": {
   "codemirror_mode": {
    "name": "ipython",
    "version": 3
   },
   "file_extension": ".py",
   "mimetype": "text/x-python",
   "name": "python",
   "nbconvert_exporter": "python",
   "pygments_lexer": "ipython3",
   "version": "3.11.5"
  }
 },
 "nbformat": 4,
 "nbformat_minor": 5
}
