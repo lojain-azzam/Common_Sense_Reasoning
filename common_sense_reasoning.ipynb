{
 "cells": [
  {
   "cell_type": "markdown",
   "id": "bac3d19b",
   "metadata": {},
   "source": [
    "## Common Sense Reasoning - NLP Assignment "
   ]
  },
  {
   "cell_type": "markdown",
   "id": "c9d05c56",
   "metadata": {},
   "source": [
    "**Objective:** \n",
    "\n",
    "To build a system that can outperform a baseline model with an accuracy of 0.2 using fastText, word2vec, and GloVe word embeddings. Additionally, compare the performance of these pretrained embedding models in terms of accuracy.\n"
   ]
  },
  {
   "cell_type": "code",
   "execution_count": 102,
   "id": "5e55ce03",
   "metadata": {},
   "outputs": [],
   "source": [
    "import numpy as np\n",
    "import pandas as pd\n",
    "from sklearn.model_selection import train_test_split\n",
    "from sklearn.metrics import accuracy_score\n",
    "import json\n",
    "import string\n",
    "from nltk.tokenize import word_tokenize\n",
    "from nltk.corpus import stopwords\n",
    "from nltk.stem import WordNetLemmatizer\n",
    "from sklearn.ensemble import RandomForestClassifier\n",
    "from sklearn.metrics.pairwise import cosine_similarity\n",
    "\n",
    "import gensim.downloader\n",
    "import random"
   ]
  },
  {
   "cell_type": "markdown",
   "id": "872134ae",
   "metadata": {},
   "source": [
    "### 1- Load from the JSON file"
   ]
  },
  {
   "cell_type": "code",
   "execution_count": 103,
   "id": "7b966eec",
   "metadata": {},
   "outputs": [
    {
     "data": {
      "text/plain": [
       "[{'answerKey': 'A',\n",
       "  'id': '075e483d21c29a511267ef62bedc0461',\n",
       "  'question': {'question_concept': 'punishing',\n",
       "   'choices': [{'label': 'A', 'text': 'ignore'},\n",
       "    {'label': 'B', 'text': 'enforce'},\n",
       "    {'label': 'C', 'text': 'authoritarian'},\n",
       "    {'label': 'D', 'text': 'yell at'},\n",
       "    {'label': 'E', 'text': 'avoid'}],\n",
       "   'stem': 'The sanctions against the school were a punishing blow, and they seemed to what the efforts the school had made to change?'}},\n",
       " {'answerKey': 'B',\n",
       "  'id': '61fe6e879ff18686d7552425a36344c8',\n",
       "  'question': {'question_concept': 'people',\n",
       "   'choices': [{'label': 'A', 'text': 'race track'},\n",
       "    {'label': 'B', 'text': 'populated areas'},\n",
       "    {'label': 'C', 'text': 'the desert'},\n",
       "    {'label': 'D', 'text': 'apartment'},\n",
       "    {'label': 'E', 'text': 'roadblock'}],\n",
       "   'stem': 'Sammy wanted to go to where the people were.  Where might he go?'}}]"
      ]
     },
     "execution_count": 103,
     "metadata": {},
     "output_type": "execute_result"
    }
   ],
   "source": [
    "data = []\n",
    "with open('train_rand_split.jsonl', 'r') as f:\n",
    "    for line in f:\n",
    "        data.append(json.loads(line))\n",
    "\n",
    "        \n",
    "data[:2] "
   ]
  },
  {
   "cell_type": "code",
   "execution_count": 104,
   "id": "dfbcc853",
   "metadata": {},
   "outputs": [
    {
     "data": {
      "text/html": [
       "<div>\n",
       "<style scoped>\n",
       "    .dataframe tbody tr th:only-of-type {\n",
       "        vertical-align: middle;\n",
       "    }\n",
       "\n",
       "    .dataframe tbody tr th {\n",
       "        vertical-align: top;\n",
       "    }\n",
       "\n",
       "    .dataframe thead th {\n",
       "        text-align: right;\n",
       "    }\n",
       "</style>\n",
       "<table border=\"1\" class=\"dataframe\">\n",
       "  <thead>\n",
       "    <tr style=\"text-align: right;\">\n",
       "      <th></th>\n",
       "      <th>question</th>\n",
       "      <th>answerKey</th>\n",
       "      <th>all_answers</th>\n",
       "    </tr>\n",
       "  </thead>\n",
       "  <tbody>\n",
       "    <tr>\n",
       "      <th>0</th>\n",
       "      <td>The sanctions against the school were a punish...</td>\n",
       "      <td>A</td>\n",
       "      <td>ignore, enforce, authoritarian, yell at, avoid</td>\n",
       "    </tr>\n",
       "    <tr>\n",
       "      <th>1</th>\n",
       "      <td>Sammy wanted to go to where the people were.  ...</td>\n",
       "      <td>B</td>\n",
       "      <td>race track, populated areas, the desert, apart...</td>\n",
       "    </tr>\n",
       "    <tr>\n",
       "      <th>2</th>\n",
       "      <td>To locate a choker not located in a jewelry bo...</td>\n",
       "      <td>A</td>\n",
       "      <td>jewelry store, neck, jewlery box, jewelry box,...</td>\n",
       "    </tr>\n",
       "    <tr>\n",
       "      <th>3</th>\n",
       "      <td>Google Maps and other highway and street GPS s...</td>\n",
       "      <td>D</td>\n",
       "      <td>united states, mexico, countryside, atlas, oceans</td>\n",
       "    </tr>\n",
       "    <tr>\n",
       "      <th>4</th>\n",
       "      <td>The fox walked from the city into the forest, ...</td>\n",
       "      <td>C</td>\n",
       "      <td>pretty flowers., hen house, natural habitat, s...</td>\n",
       "    </tr>\n",
       "  </tbody>\n",
       "</table>\n",
       "</div>"
      ],
      "text/plain": [
       "                                            question answerKey  \\\n",
       "0  The sanctions against the school were a punish...         A   \n",
       "1  Sammy wanted to go to where the people were.  ...         B   \n",
       "2  To locate a choker not located in a jewelry bo...         A   \n",
       "3  Google Maps and other highway and street GPS s...         D   \n",
       "4  The fox walked from the city into the forest, ...         C   \n",
       "\n",
       "                                         all_answers  \n",
       "0     ignore, enforce, authoritarian, yell at, avoid  \n",
       "1  race track, populated areas, the desert, apart...  \n",
       "2  jewelry store, neck, jewlery box, jewelry box,...  \n",
       "3  united states, mexico, countryside, atlas, oceans  \n",
       "4  pretty flowers., hen house, natural habitat, s...  "
      ]
     },
     "execution_count": 104,
     "metadata": {},
     "output_type": "execute_result"
    }
   ],
   "source": [
    "questions = []\n",
    "answer_keys = []\n",
    "all_answers = []\n",
    "\n",
    "for entry in data:\n",
    "    question = entry['question']['stem']\n",
    "    answer_key = entry['answerKey']\n",
    "    choices = entry['question']['choices']\n",
    "    all_choices = [choice['text'] for choice in choices]\n",
    "    \n",
    "    # Concatenate all the answers into a single string\n",
    "    all_answers.append(\", \".join(all_choices))\n",
    "    \n",
    "    # Append the question and answer key to their respective lists\n",
    "    questions.append(question)\n",
    "    answer_keys.append(answer_key)\n",
    "\n",
    "df = pd.DataFrame({'question': questions, 'answerKey': answer_keys, 'all_answers': all_answers})\n",
    "\n",
    "\n",
    "df.head()\n"
   ]
  },
  {
   "cell_type": "markdown",
   "id": "2b6d9d74",
   "metadata": {},
   "source": [
    "### 2- Pre-process the text data"
   ]
  },
  {
   "cell_type": "code",
   "execution_count": 105,
   "id": "7ad0acad",
   "metadata": {},
   "outputs": [],
   "source": [
    "def preprocess_text(text):\n",
    "    # Tokenization\n",
    "    tokens = word_tokenize(text)\n",
    "    # Convert to lowercase\n",
    "    tokens = [word.lower() for word in tokens]\n",
    "    # Remove punctuation\n",
    "    tokens = [word for word in tokens if word not in string.punctuation]\n",
    "    # Remove stopwords\n",
    "    stop_words = set(stopwords.words('english'))\n",
    "    tokens = [word for word in tokens if word not in stop_words]\n",
    "    # Lemmatization\n",
    "    lemmatizer = WordNetLemmatizer()\n",
    "    tokens = [lemmatizer.lemmatize(word) for word in tokens]\n",
    "    # Join tokens back into a string\n",
    "    preprocessed_text = ' '.join(tokens)\n",
    "    return preprocessed_text\n"
   ]
  },
  {
   "cell_type": "code",
   "execution_count": 106,
   "id": "5c5efb79",
   "metadata": {},
   "outputs": [
    {
     "data": {
      "text/html": [
       "<div>\n",
       "<style scoped>\n",
       "    .dataframe tbody tr th:only-of-type {\n",
       "        vertical-align: middle;\n",
       "    }\n",
       "\n",
       "    .dataframe tbody tr th {\n",
       "        vertical-align: top;\n",
       "    }\n",
       "\n",
       "    .dataframe thead th {\n",
       "        text-align: right;\n",
       "    }\n",
       "</style>\n",
       "<table border=\"1\" class=\"dataframe\">\n",
       "  <thead>\n",
       "    <tr style=\"text-align: right;\">\n",
       "      <th></th>\n",
       "      <th>question</th>\n",
       "      <th>answerKey</th>\n",
       "      <th>all_answers</th>\n",
       "    </tr>\n",
       "  </thead>\n",
       "  <tbody>\n",
       "    <tr>\n",
       "      <th>0</th>\n",
       "      <td>sanction school punishing blow seemed effort s...</td>\n",
       "      <td>A</td>\n",
       "      <td>ignore, enforce, authoritarian, yell at, avoid</td>\n",
       "    </tr>\n",
       "    <tr>\n",
       "      <th>1</th>\n",
       "      <td>sammy wanted go people might go</td>\n",
       "      <td>B</td>\n",
       "      <td>race track, populated areas, the desert, apart...</td>\n",
       "    </tr>\n",
       "    <tr>\n",
       "      <th>2</th>\n",
       "      <td>locate choker located jewelry box boutique wou...</td>\n",
       "      <td>A</td>\n",
       "      <td>jewelry store, neck, jewlery box, jewelry box,...</td>\n",
       "    </tr>\n",
       "    <tr>\n",
       "      <th>3</th>\n",
       "      <td>google map highway street gps service replaced</td>\n",
       "      <td>D</td>\n",
       "      <td>united states, mexico, countryside, atlas, oceans</td>\n",
       "    </tr>\n",
       "    <tr>\n",
       "      <th>4</th>\n",
       "      <td>fox walked city forest looking</td>\n",
       "      <td>C</td>\n",
       "      <td>pretty flowers., hen house, natural habitat, s...</td>\n",
       "    </tr>\n",
       "  </tbody>\n",
       "</table>\n",
       "</div>"
      ],
      "text/plain": [
       "                                            question answerKey  \\\n",
       "0  sanction school punishing blow seemed effort s...         A   \n",
       "1                    sammy wanted go people might go         B   \n",
       "2  locate choker located jewelry box boutique wou...         A   \n",
       "3     google map highway street gps service replaced         D   \n",
       "4                     fox walked city forest looking         C   \n",
       "\n",
       "                                         all_answers  \n",
       "0     ignore, enforce, authoritarian, yell at, avoid  \n",
       "1  race track, populated areas, the desert, apart...  \n",
       "2  jewelry store, neck, jewlery box, jewelry box,...  \n",
       "3  united states, mexico, countryside, atlas, oceans  \n",
       "4  pretty flowers., hen house, natural habitat, s...  "
      ]
     },
     "execution_count": 106,
     "metadata": {},
     "output_type": "execute_result"
    }
   ],
   "source": [
    "df['question'] = df['question'].apply(preprocess_text)\n",
    "df.head()"
   ]
  },
  {
   "cell_type": "markdown",
   "id": "3d4240cd",
   "metadata": {},
   "source": [
    "### 3- Random baseline model"
   ]
  },
  {
   "cell_type": "code",
   "execution_count": 107,
   "id": "10e4019e",
   "metadata": {},
   "outputs": [
    {
     "name": "stdout",
     "output_type": "stream",
     "text": [
      "Accuracy for random baseline model: 0.19802894979981522\n"
     ]
    }
   ],
   "source": [
    "def calculate_accuracy_random(data):\n",
    "    correct_predictions = 0\n",
    "    total_questions = len(data)\n",
    "\n",
    "    for question in data:\n",
    "        answer_key = question[\"answerKey\"]\n",
    "        prediction_label = random.choice(question[\"question\"][\"choices\"])[\"label\"]\n",
    "\n",
    "        if prediction_label == answer_key:\n",
    "            correct_predictions += 1\n",
    "\n",
    "    accuracy = correct_predictions / total_questions\n",
    "    return accuracy\n",
    "\n",
    "# Calculate accuracy for random baseline model\n",
    "accuracy_random_baseline = calculate_accuracy_random(data)\n",
    "\n",
    "print(f\"Accuracy for random baseline model: {accuracy_random_baseline}\")"
   ]
  },
  {
   "cell_type": "code",
   "execution_count": 108,
   "id": "466bbd2f",
   "metadata": {},
   "outputs": [],
   "source": [
    "# Split data into train and test sets\n",
    "X_train, X_test, y_train, y_test = train_test_split(df['question'], df['answerKey'] , test_size=0.2, random_state=42)"
   ]
  },
  {
   "cell_type": "markdown",
   "id": "7f40a588",
   "metadata": {},
   "source": [
    "### 3- Load pre-trained word embeddings\n"
   ]
  },
  {
   "cell_type": "code",
   "execution_count": 36,
   "id": "6eb72bf8",
   "metadata": {},
   "outputs": [],
   "source": [
    "word2vec_model = gensim.downloader.load('word2vec-google-news-300')\n",
    "glove_model = gensim.downloader.load('glove-wiki-gigaword-300')\n",
    "fasttext_model = gensim.downloader.load('fasttext-wiki-news-subwords-300')"
   ]
  },
  {
   "cell_type": "markdown",
   "id": "4dd30b65",
   "metadata": {},
   "source": [
    "### 4- Convert the text data into vector representations"
   ]
  },
  {
   "cell_type": "code",
   "execution_count": 109,
   "id": "c20af753",
   "metadata": {},
   "outputs": [],
   "source": [
    "# Function to convert text to embeddings using a given model\n",
    "def text_to_embedding(text, model):\n",
    "    words = text# Tokenize the text\n",
    "    word_embeddings = [model[word] for word in words if word in model]  # Get embeddings for words in vocabulary\n",
    "    if word_embeddings:\n",
    "        return np.mean(word_embeddings, axis=0)  # Average the word embeddings\n",
    "    else:\n",
    "        return np.zeros(model.vector_size)  # Use zero vector if no embeddings found\n"
   ]
  },
  {
   "cell_type": "markdown",
   "id": "26e7dfbd",
   "metadata": {},
   "source": [
    "### Train models"
   ]
  },
  {
   "cell_type": "code",
   "execution_count": 110,
   "id": "f123ddec",
   "metadata": {},
   "outputs": [],
   "source": [
    "def calculate_embeddings(text_data, all_answers, model):\n",
    "    question_embeddings = []\n",
    "    answer_embeddings = []\n",
    "\n",
    "    # Calculate question embeddings\n",
    "    for question in text_data:\n",
    "        words = question.split()  # Tokenize the question\n",
    "        word_embeddings = [model[word] for word in words if word in model]  # Get embeddings for words in vocabulary\n",
    "        if word_embeddings:\n",
    "            question_embeddings.append(np.mean(word_embeddings, axis=0))  # Average the word embeddings\n",
    "        else:\n",
    "            question_embeddings.append(np.zeros(model.vector_size))  # Use zero vector if no embeddings found\n",
    "\n",
    "    # Calculate answer embeddings\n",
    "    for answers in all_answers:\n",
    "        answer_embedding = {}\n",
    "        for i, answer in enumerate(answers.split(',')):\n",
    "            words = answer.strip().split()  # Tokenize the answer\n",
    "            word_embeddings = [model[word] for word in words if word in model]  # Get embeddings for words in vocabulary\n",
    "            if word_embeddings:\n",
    "                answer_embedding[chr(ord('A') + i)] = np.mean(word_embeddings, axis=0)  # Average the word embeddings\n",
    "            else:\n",
    "                answer_embedding[chr(ord('A') + i)] = np.zeros(model.vector_size)  # Use zero vector if no embeddings found\n",
    "        answer_embeddings.append(answer_embedding)\n",
    "\n",
    "    return question_embeddings, answer_embeddings\n"
   ]
  },
  {
   "cell_type": "code",
   "execution_count": 111,
   "id": "67fcb846",
   "metadata": {},
   "outputs": [],
   "source": [
    "# Function to calculate cosine similarity between two vectors\n",
    "def calculate_cosine_similarity(vector1, vector2):\n",
    "    return cosine_similarity(vector1.reshape(1, -1), vector2.reshape(1, -1))[0][0]\n"
   ]
  },
  {
   "cell_type": "code",
   "execution_count": 112,
   "id": "b9e73663",
   "metadata": {},
   "outputs": [],
   "source": [
    "def predict_answer(question_embedding, answer_embeddings):\n",
    "    max_cosine_similarity = -1\n",
    "    predicted_answer = None\n",
    "    \n",
    "    # Iterate through each answer choice and calculate cosine similarity\n",
    "    for answer_choice, answer_embedding in answer_embeddings.items():\n",
    "        cosine_similarity = calculate_cosine_similarity(question_embedding, answer_embedding)\n",
    "        if cosine_similarity > max_cosine_similarity:\n",
    "            max_cosine_similarity = cosine_similarity\n",
    "            predicted_answer = answer_choice\n",
    "    \n",
    "    return predicted_answer\n"
   ]
  },
  {
   "cell_type": "code",
   "execution_count": 113,
   "id": "62f5a760",
   "metadata": {},
   "outputs": [],
   "source": [
    "# Calculate embeddings for each model\n",
    "question_embeddings_fasttext, answer_embeddings_fasttext = calculate_embeddings(X_train, df.loc[X_train.index, 'all_answers'], fasttext_model)\n",
    "question_embeddings_word2vec, answer_embeddings_word2vec = calculate_embeddings(X_train, df.loc[X_train.index, 'all_answers'], word2vec_model)\n",
    "question_embeddings_glove, answer_embeddings_glove = calculate_embeddings(X_train, df.loc[X_train.index, 'all_answers'], glove_model)"
   ]
  },
  {
   "cell_type": "code",
   "execution_count": 114,
   "id": "c44f7f7b",
   "metadata": {},
   "outputs": [],
   "source": [
    "\n",
    "# Predict answers using cosine similarity for each model\n",
    "predictions_fasttext = [predict_answer(question_embedding, answer_embedding) for question_embedding, answer_embedding in zip(question_embeddings_fasttext, answer_embeddings_fasttext)]\n",
    "predictions_word2vec = [predict_answer(question_embedding, answer_embedding) for question_embedding, answer_embedding in zip(question_embeddings_word2vec, answer_embeddings_word2vec)]\n",
    "predictions_glove = [predict_answer(question_embedding, answer_embedding) for question_embedding, answer_embedding in zip(question_embeddings_glove, answer_embeddings_glove)]"
   ]
  },
  {
   "cell_type": "markdown",
   "id": "d748a42c",
   "metadata": {},
   "source": [
    "### 6- Evaluate the performance of the models"
   ]
  },
  {
   "cell_type": "code",
   "execution_count": 115,
   "id": "e46be4c2",
   "metadata": {
    "scrolled": true
   },
   "outputs": [],
   "source": [
    "aligned_predictions_fasttext = predictions_fasttext[:len(y_test)]\n",
    "aligned_predictions_word2vec = predictions_word2vec[:len(y_test)]\n",
    "aligned_predictions_glove = predictions_glove[:len(y_test)]"
   ]
  },
  {
   "cell_type": "code",
   "execution_count": 116,
   "id": "d08dd8ec",
   "metadata": {},
   "outputs": [],
   "source": [
    "# Compute the accuracy score for each model\n",
    "accuracy_fasttext = accuracy_score(y_test, aligned_predictions_fasttext)\n",
    "accuracy_word2vec = accuracy_score(y_test, aligned_predictions_word2vec)\n",
    "accuracy_glove = accuracy_score(y_test, aligned_predictions_glove)"
   ]
  },
  {
   "cell_type": "code",
   "execution_count": 117,
   "id": "f7fcb453",
   "metadata": {},
   "outputs": [
    {
     "name": "stdout",
     "output_type": "stream",
     "text": [
      "Accuracy using FastText: 0.1831708568496665\n",
      "Accuracy using Word2Vec: 0.19035402770651616\n",
      "Accuracy using GloVe: 0.19035402770651616\n"
     ]
    }
   ],
   "source": [
    "print(\"Accuracy using FastText:\", accuracy_fasttext)\n",
    "print(\"Accuracy using Word2Vec:\", accuracy_word2vec)\n",
    "print(\"Accuracy using GloVe:\", accuracy_glove)"
   ]
  },
  {
   "cell_type": "code",
   "execution_count": 118,
   "id": "992e8425",
   "metadata": {},
   "outputs": [
    {
     "data": {
      "image/png": "[encoded data removed]",
      "text/plain": [
       "<Figure size 800x600 with 1 Axes>"
      ]
     },
     "metadata": {},
     "output_type": "display_data"
    }
   ],
   "source": [
    "import matplotlib.pyplot as plt\n",
    "\n",
    "# Define the models and their accuracies\n",
    "models = ['FastText', 'Word2Vec', 'GloVe']\n",
    "accuracies = [accuracy_fasttext, accuracy_word2vec, accuracy_glove]\n",
    "\n",
    "# Create a bar plot\n",
    "plt.figure(figsize=(8, 6))\n",
    "plt.bar(models, accuracies, color=['blue', 'orange', 'green'])\n",
    "\n",
    "# Add labels and title\n",
    "plt.xlabel('Model')\n",
    "plt.ylabel('Accuracy')\n",
    "plt.title('Accuracy of Different Word Embedding Models')\n",
    "plt.ylim(0, 1)  # Set y-axis limit to 0-1 for accuracy percentage\n",
    "\n",
    "# Display the plot\n",
    "plt.show()\n"
   ]
  },
  {
   "cell_type": "code",
   "execution_count": null,
   "id": "daeb7e7d",
   "metadata": {},
   "outputs": [],
   "source": []
  },
  {
   "cell_type": "code",
   "execution_count": null,
   "id": "9d0cda63",
   "metadata": {},
   "outputs": [],
   "source": []
  },
  {
   "cell_type": "code",
   "execution_count": null,
   "id": "aca78ff9",
   "metadata": {},
   "outputs": [],
   "source": []
  }
 ],
 "metadata": {
  "kernelspec": {
   "display_name": "Python 3 (ipykernel)",
   "language": "python",
   "name": "python3"
  },
  "language_info": {
   "codemirror_mode": {
    "name": "ipython",
    "version": 3
   },
   "file_extension": ".py",
   "mimetype": "text/x-python",
   "name": "python",
   "nbconvert_exporter": "python",
   "pygments_lexer": "ipython3",
   "version": "3.11.5"
  }
 },
 "nbformat": 4,
 "nbformat_minor": 5
}
